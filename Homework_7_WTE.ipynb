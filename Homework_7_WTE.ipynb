{
  "nbformat": 4,
  "nbformat_minor": 0,
  "metadata": {
    "colab": {
      "provenance": []
    },
    "kernelspec": {
      "name": "python3",
      "display_name": "Python 3"
    },
    "language_info": {
      "name": "python"
    }
  },
  "cells": [
    {
      "cell_type": "code",
      "execution_count": 2,
      "metadata": {
        "id": "rdUWgE4WWloo"
      },
      "outputs": [],
      "source": [
        "#Import the necessary libraries and choose dataset\n",
        "import time\n",
        "import tensorflow as tf\n",
        "from tensorflow import keras\n",
        "from tensorflow.keras import layers"
      ]
    },
    {
      "cell_type": "code",
      "source": [
        "#Streamline switching models\n",
        "def build_model(use_big_dense=False):\n",
        "  return keras.Sequential([\n",
        "    layers.Conv2D(32, 3, activation=\"relu\", input_shape=(28, 28 , 1)),\n",
        "    layers.MaxPooling2D(),\n",
        "    layers.Conv2D(64, 3, activation=\"relu\"),\n",
        "    layers.MaxPooling2D(),\n",
        "    layers.Flatten(),\n",
        "    layers.Dense(4096 if use_big_dense else 128, activation=\"relu\"),\n",
        "    layers.Dropout(0.5),\n",
        "    layers.Dense(10, activation=\"softmax\"),\n",
        "  ])\n",
        "\n",
        "  #Set Parameters\n",
        "  use_fashion = True\n",
        "  use_big_dense = False\n",
        "  batch_size = 128\n",
        "  epochs = 5\n",
        "\n",
        "#Run experiment (dataset + model size)\n",
        "def run_experiment(use_fashion=True, use_big_dense=False, epochs=5, batch_size=128):\n",
        "\n",
        "  #Pick dataset\n",
        "  (x_train, y_train), (x_test, y_test) = (\n",
        "      keras.datasets.fashion_mnist if use_fashion else keras.datasets.mnist\n",
        "  ).load_data()\n",
        "\n",
        "  x_train = x_train.astype(\"float32\") / 255.0\n",
        "  x_test = x_test.astype(\"float32\") / 255.0\n",
        "  x_train = x_train[..., None]\n",
        "  x_test = x_test[..., None]\n",
        "\n",
        "  #Build model and compile\n",
        "  model = build_model(use_big_dense)\n",
        "  model.compile(\n",
        "      optimizer=\"adam\",\n",
        "      loss=\"sparse_categorical_crossentropy\",\n",
        "      metrics=[\"accuracy\"]\n",
        "  )\n",
        "\n",
        "  start_time = time.time()\n",
        "  history = model.fit(\n",
        "      x_train,\n",
        "      y_train,\n",
        "      batch_size=batch_size,\n",
        "      epochs=epochs,\n",
        "      validation_split=0.1,\n",
        "      verbose=2\n",
        "  )\n",
        "  train_time = time.time() - start_time\n",
        "\n",
        "  #Evaluate on the test set\n",
        "  test_loss, test_acc = model.evaluate(x_test, y_test, verbose=0)\n",
        "\n",
        "#Run all combinations and return data\n",
        "results = []\n",
        "\n",
        "results.append(run_experiment(use_fashion=False, use_big_dense=False))#MNIST\n",
        "results.append(run_experiment(use_fashion=True, use_big_dense=False))#Fashion\n",
        "\n",
        "results.append(run_experiment(use_fashion=False, use_big_dense=True))#MNIST Dense\n",
        "results.append(run_experiment(use_fashion=True, use_big_dense=True))#Fashion Dense\n",
        "\n",
        "#Print Results\n",
        "results(\"\\n--- Accuracy & Time Comparison ---\")\n",
        "for r in results:\n",
        "    print(f\"{r['dataset']:13s} | {r['model']:10s} \"\n",
        "          f\"epochs={r['epochs']:2d} | time={r['train_time_sec']:6.2f}s |\"\n",
        "          f\"acc={r['test_acc']:.4f} | loss={r['test_loss']:.4f}\")\n",
        "\n"
      ],
      "metadata": {
        "colab": {
          "base_uri": "https://localhost:8080/"
        },
        "id": "J73YQAfrkw2p",
        "outputId": "cf6d1e4b-7caa-4b2f-c8ee-a320742db9c2"
      },
      "execution_count": null,
      "outputs": [
        {
          "output_type": "stream",
          "name": "stderr",
          "text": [
            "/usr/local/lib/python3.12/dist-packages/keras/src/layers/convolutional/base_conv.py:113: UserWarning: Do not pass an `input_shape`/`input_dim` argument to a layer. When using Sequential models, prefer using an `Input(shape)` object as the first layer in the model instead.\n",
            "  super().__init__(activity_regularizer=activity_regularizer, **kwargs)\n"
          ]
        },
        {
          "output_type": "stream",
          "name": "stdout",
          "text": [
            "Epoch 1/5\n",
            "422/422 - 44s - 103ms/step - accuracy: 0.9062 - loss: 0.3080 - val_accuracy: 0.9843 - val_loss: 0.0597\n",
            "Epoch 2/5\n",
            "422/422 - 84s - 200ms/step - accuracy: 0.9703 - loss: 0.1003 - val_accuracy: 0.9893 - val_loss: 0.0424\n",
            "Epoch 3/5\n",
            "422/422 - 79s - 188ms/step - accuracy: 0.9786 - loss: 0.0724 - val_accuracy: 0.9892 - val_loss: 0.0371\n",
            "Epoch 4/5\n",
            "422/422 - 42s - 101ms/step - accuracy: 0.9823 - loss: 0.0587 - val_accuracy: 0.9900 - val_loss: 0.0363\n",
            "Epoch 5/5\n",
            "422/422 - 80s - 190ms/step - accuracy: 0.9841 - loss: 0.0512 - val_accuracy: 0.9898 - val_loss: 0.0367\n",
            "Epoch 1/5\n",
            "422/422 - 47s - 110ms/step - accuracy: 0.7553 - loss: 0.6738 - val_accuracy: 0.8498 - val_loss: 0.4106\n",
            "Epoch 2/5\n",
            "422/422 - 44s - 105ms/step - accuracy: 0.8472 - loss: 0.4308 - val_accuracy: 0.8767 - val_loss: 0.3385\n",
            "Epoch 3/5\n",
            "422/422 - 83s - 196ms/step - accuracy: 0.8667 - loss: 0.3734 - val_accuracy: 0.8887 - val_loss: 0.3095\n",
            "Epoch 4/5\n",
            "422/422 - 44s - 104ms/step - accuracy: 0.8774 - loss: 0.3407 - val_accuracy: 0.8902 - val_loss: 0.3001\n",
            "Epoch 5/5\n",
            "422/422 - 42s - 100ms/step - accuracy: 0.8853 - loss: 0.3189 - val_accuracy: 0.8950 - val_loss: 0.2804\n",
            "Epoch 1/5\n",
            "422/422 - 143s - 339ms/step - accuracy: 0.9512 - loss: 0.1612 - val_accuracy: 0.9858 - val_loss: 0.0486\n",
            "Epoch 2/5\n",
            "422/422 - 150s - 355ms/step - accuracy: 0.9847 - loss: 0.0495 - val_accuracy: 0.9898 - val_loss: 0.0367\n",
            "Epoch 3/5\n"
          ]
        }
      ]
    },
    {
      "cell_type": "code",
      "source": [
        "#Return Summary\n",
        "print({\n",
        "    \"dataset\": \"fashion\" if use_fashion else \"mnist\",\n",
        "    \"model_size\": \"dense4096\" if use_big_dense else \"dense128\",\n",
        "    \"epochs\": epochs,\n",
        "    \"train_time_sec\": round(train_time, 2),\n",
        "    \"test_acc\": round(test_acc, 4),\n",
        "    \"test_loss\": round(test_loss, 4)\n",
        "})\n"
      ],
      "metadata": {
        "id": "6KgMC1NPljPl"
      },
      "execution_count": null,
      "outputs": []
    }
  ]
}