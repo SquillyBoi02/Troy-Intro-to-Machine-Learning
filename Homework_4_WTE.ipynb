{
  "nbformat": 4,
  "nbformat_minor": 0,
  "metadata": {
    "colab": {
      "provenance": []
    },
    "kernelspec": {
      "name": "python3",
      "display_name": "Python 3"
    },
    "language_info": {
      "name": "python"
    }
  },
  "cells": [
    {
      "cell_type": "code",
      "execution_count": 223,
      "metadata": {
        "id": "IwY7agpiUYPZ"
      },
      "outputs": [],
      "source": [
        "#Import the necessary libraries then load the Breast Cancer dataset\n",
        "from sklearn.datasets import load_breast_cancer\n",
        "from sklearn.metrics import accuracy_score\n",
        "from sklearn.metrics import confusion_matrix, classification_report\n",
        "from sklearn.metrics import ConfusionMatrixDisplay\n",
        "from sklearn.model_selection import KFold, cross_val_score\n",
        "from sklearn.pipeline import Pipeline\n",
        "from sklearn.preprocessing import StandardScaler\n",
        "from sklearn.neighbors import KNeighborsClassifier\n",
        "from sklearn.linear_model import LogisticRegression\n",
        "from sklearn.svm import SVC\n",
        "import pandas as pd\n",
        "import numpy as np\n",
        "import matplotlib.pyplot as plt\n",
        "import seaborn as sns\n",
        "\n",
        "breast_cancer = load_breast_cancer()"
      ]
    },
    {
      "cell_type": "code",
      "source": [
        "x= breast_cancer.data\n",
        "y= breast_cancer.target"
      ],
      "metadata": {
        "id": "JPIVBSedYMxi"
      },
      "execution_count": 224,
      "outputs": []
    },
    {
      "cell_type": "code",
      "source": [
        "#Display dataset info for checking\n",
        "print(\"Breast Cancer Dataset Info\")\n",
        "print(\"==========================\")\n",
        "print(\"Samples x Features\", x.shape)\n",
        "print(\"Target shape\", y.shape)\n",
        "print(\"Target names\", breast_cancer.target_names)"
      ],
      "metadata": {
        "colab": {
          "base_uri": "https://localhost:8080/"
        },
        "id": "qPW3XKTtYT7o",
        "outputId": "3fdad5d0-824f-48c9-b328-e0efc28b5b36"
      },
      "execution_count": 225,
      "outputs": [
        {
          "output_type": "stream",
          "name": "stdout",
          "text": [
            "Breast Cancer Dataset Info\n",
            "Samples x Features (569, 30)\n",
            "Target shape (569,)\n",
            "Target names ['malignant' 'benign']\n"
          ]
        }
      ]
    },
    {
      "cell_type": "code",
      "source": [
        "#Split the data for training and testing\n",
        "from sklearn.model_selection import train_test_split\n",
        "\n",
        "x_train, x_test, y_train, y_test = train_test_split(x, y, test_size=0.2, random_state=11)\n",
        "\n",
        "print(\"\\n=== Split Sizes ===\")\n",
        "print(\"x_train:\", x_train.shape, \"y_train.shape\", y_train.shape)\n",
        "print(\"x_test:\", x_test.shape, \"y_test:\", y_test.shape)"
      ],
      "metadata": {
        "colab": {
          "base_uri": "https://localhost:8080/"
        },
        "id": "C3ceOS3VZqll",
        "outputId": "6236cc6d-6890-4f11-80db-582ed648d58f"
      },
      "execution_count": 226,
      "outputs": [
        {
          "output_type": "stream",
          "name": "stdout",
          "text": [
            "\n",
            "=== Split Sizes ===\n",
            "x_train: (455, 30) y_train.shape (455,)\n",
            "x_test: (114, 30) y_test: (114,)\n"
          ]
        }
      ]
    },
    {
      "cell_type": "code",
      "source": [
        "#Create/Train GaussianNB Model\n",
        "from sklearn.naive_bayes import GaussianNB\n",
        "\n",
        "nb = GaussianNB()\n",
        "nb.fit(x_train, y_train)\n",
        "\n",
        "print(\"Trained GaussianNB Model on:\", x_train.shape[0], \"samples and\", x_train.shape[1], \"features\")"
      ],
      "metadata": {
        "colab": {
          "base_uri": "https://localhost:8080/"
        },
        "id": "-8iBbvXla8Zg",
        "outputId": "01a30020-b026-4527-ff73-9a837c1dc739"
      },
      "execution_count": 227,
      "outputs": [
        {
          "output_type": "stream",
          "name": "stdout",
          "text": [
            "Trained GaussianNB Model on: 455 samples and 30 features\n"
          ]
        }
      ]
    },
    {
      "cell_type": "code",
      "source": [
        "#Predict / Guage Accuracy\n",
        "y_pred = nb.predict(x_test)\n",
        "\n",
        "train_acc = nb.score(x_train, y_train)\n",
        "test_acc = nb.score(x_test, y_test)\n",
        "\n",
        "print(\"Training Accuracy:\", train_acc)\n",
        "print(\"Testing Accuracy:\", test_acc)\n",
        "\n",
        "print(\"Accuracy:\", accuracy_score(y_test, y_pred))"
      ],
      "metadata": {
        "colab": {
          "base_uri": "https://localhost:8080/"
        },
        "id": "9sX1t-v0b9xP",
        "outputId": "ccb147ee-ba94-4a32-d257-16bdf2fd2a2b"
      },
      "execution_count": 228,
      "outputs": [
        {
          "output_type": "stream",
          "name": "stdout",
          "text": [
            "Training Accuracy: 0.9384615384615385\n",
            "Testing Accuracy: 0.9385964912280702\n",
            "Accuracy: 0.9385964912280702\n"
          ]
        }
      ]
    },
    {
      "cell_type": "code",
      "source": [
        "#Confusion Matrix/ Class Report\n",
        "cm = confusion_matrix(y_test, y_pred)\n",
        "print(\"Confusion Matrix:\")\n",
        "print(cm)\n",
        "\n",
        "print( \"\\nClassification Report:\")\n",
        "print(classification_report(y_test, y_pred, target_names=breast_cancer.target_names))"
      ],
      "metadata": {
        "colab": {
          "base_uri": "https://localhost:8080/"
        },
        "id": "5wmYEsnLclKT",
        "outputId": "09c8ff35-0de7-4110-d6e3-4850cf1acfcf"
      },
      "execution_count": 229,
      "outputs": [
        {
          "output_type": "stream",
          "name": "stdout",
          "text": [
            "Confusion Matrix:\n",
            "[[32  6]\n",
            " [ 1 75]]\n",
            "\n",
            "Classification Report:\n",
            "              precision    recall  f1-score   support\n",
            "\n",
            "   malignant       0.97      0.84      0.90        38\n",
            "      benign       0.93      0.99      0.96        76\n",
            "\n",
            "    accuracy                           0.94       114\n",
            "   macro avg       0.95      0.91      0.93       114\n",
            "weighted avg       0.94      0.94      0.94       114\n",
            "\n"
          ]
        }
      ]
    },
    {
      "cell_type": "code",
      "source": [
        "#Visualize the Confusion Matrix\n",
        "disp = ConfusionMatrixDisplay(confusion_matrix=cm, display_labels=breast_cancer.target_names)\n",
        "disp.plot(cmap=plt.cm.Blues)\n",
        "plt.title(\"Confusion Matrix\")\n",
        "plt.show()"
      ],
      "metadata": {
        "colab": {
          "base_uri": "https://localhost:8080/",
          "height": 472
        },
        "id": "QhEVK3yzhG63",
        "outputId": "d36d798f-23c3-4f25-f4fd-405ce7013819"
      },
      "execution_count": 230,
      "outputs": [
        {
          "output_type": "display_data",
          "data": {
            "text/plain": [
              "<Figure size 640x480 with 2 Axes>"
            ],
            "image/png": "[encoded data removed]"
          },
          "metadata": {}
        }
      ]
    },
    {
      "cell_type": "markdown",
      "source": [],
      "metadata": {
        "id": "BVRjCCkIbt1N"
      }
    },
    {
      "cell_type": "code",
      "source": [
        "#K-Fold Cross Validation\n",
        "kfold = KFold(n_splits=10, shuffle=True, random_state=11)\n",
        "scores = cross_val_score(estimator=nb, X=breast_cancer.data, y=breast_cancer.target, cv=kfold)\n",
        "\n",
        "print(\"Cross-validation scores:\", scores)\n",
        "print(\"\\nMean accuracy:\", np.mean(scores))"
      ],
      "metadata": {
        "colab": {
          "base_uri": "https://localhost:8080/"
        },
        "id": "_YGjy3UyhkKt",
        "outputId": "308b8944-aa15-4193-8c82-97079a6db027"
      },
      "execution_count": 240,
      "outputs": [
        {
          "output_type": "stream",
          "name": "stdout",
          "text": [
            "Cross-validation scores: [0.96491228 0.9122807  0.94736842 0.89473684 0.96491228 0.94736842\n",
            " 0.96491228 0.89473684 0.96491228 0.92857143]\n",
            "\n",
            "Mean accuracy: 0.9384711779448622\n"
          ]
        }
      ]
    },
    {
      "cell_type": "code",
      "source": [
        "#Create dictionary for other models\n",
        "from sklearn.multiclass import OneVsRestClassifier\n",
        "\n",
        "estimators = {'GaussianNB':GaussianNB(),\n",
        "  'KNeighborsClassifier':KNeighborsClassifier(),\n",
        "  'LogisticRegression':OneVsRestClassifier(LogisticRegression(solver='lbfgs', max_iter=10000)),\n",
        "  'SVC':SVC(gamma='scale')\n",
        "}"
      ],
      "metadata": {
        "id": "cGEKA_OMizEy"
      },
      "execution_count": 257,
      "outputs": []
    },
    {
      "cell_type": "code",
      "source": [
        "#Run through each model and compare\n",
        "print(\"\\n=== Model Comparison ===\")\n",
        "for name, model in estimators.items():\n",
        "  cv_scores = cross_val_score(estimator=model, X=x, y=y, cv=kfold)\n",
        "  model.fit(x_train, y_train)\n",
        "  test_acc = model.score(x_test, y_test)\n",
        "\n",
        "  print(name, \"CV Mean\", round(cv_scores.mean(), 3))\n",
        "  print(name, \"CV Std\", round(cv_scores.std(), 3))\n",
        "  print(name, \"Test Accuracy\", round(test_acc, 3))"
      ],
      "metadata": {
        "colab": {
          "base_uri": "https://localhost:8080/"
        },
        "id": "7eBZ7WFdkRXq",
        "outputId": "cef77a9d-45e5-45ab-d2f8-900de1398d0e"
      },
      "execution_count": 258,
      "outputs": [
        {
          "output_type": "stream",
          "name": "stdout",
          "text": [
            "\n",
            "=== Model Comparison ===\n",
            "GaussianNB CV Mean 0.938\n",
            "GaussianNB CV Std 0.028\n",
            "GaussianNB Test Accuracy 0.939\n",
            "KNeighborsClassifier CV Mean 0.928\n",
            "KNeighborsClassifier CV Std 0.02\n",
            "KNeighborsClassifier Test Accuracy 0.947\n",
            "LogisticRegression CV Mean 0.951\n",
            "LogisticRegression CV Std 0.03\n",
            "LogisticRegression Test Accuracy 0.956\n",
            "SVC CV Mean 0.919\n",
            "SVC CV Std 0.035\n",
            "SVC Test Accuracy 0.93\n"
          ]
        }
      ]
    }
  ]
}