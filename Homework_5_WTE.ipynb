{
  "nbformat": 4,
  "nbformat_minor": 0,
  "metadata": {
    "colab": {
      "provenance": []
    },
    "kernelspec": {
      "name": "python3",
      "display_name": "Python 3"
    },
    "language_info": {
      "name": "python"
    }
  },
  "cells": [
    {
      "cell_type": "code",
      "execution_count": 46,
      "metadata": {
        "id": "CRyHjLBQ7dlM"
      },
      "outputs": [],
      "source": [
        "#Import the necessary libraries and the load the k-Means dataset\n",
        "from sklearn.cluster import KMeans\n",
        "from sklearn.datasets import fetch_openml\n",
        "from sklearn.model_selection import train_test_split\n",
        "from sklearn.preprocessing import StandardScaler\n",
        "from sklearn.decomposition import PCA\n",
        "from sklearn.linear_model import LogisticRegression\n",
        "from sklearn.metrics import accuracy_score\n",
        "import matplotlib.pyplot as plt\n",
        "import time\n",
        "\n",
        "iris = load_iris()\n",
        "X_iris = iris.data\n",
        "\n",
        "mnist = fetch_openml('mnist_784', version=1, as_frame=False)\n",
        "X_mnist = mnist.data\n",
        "y_mnist = mnist.target"
      ]
    },
    {
      "cell_type": "markdown",
      "source": [],
      "metadata": {
        "id": "JGZHsrFtzamL"
      }
    },
    {
      "cell_type": "code",
      "source": [
        "#Compute Within-Cluster Sum of Sqaures for each cluster\n",
        "wcss = []\n",
        "for i in range(1, 11):\n",
        "    kmeans = KMeans(n_clusters=i, init='k-means++', random_state=42)\n",
        "    kmeans.fit(X_iris)\n",
        "    wcss.append(kmeans.inertia_)\n",
        "\n",
        "#Plot the results and graph\n",
        "plt.plot(range(1, 11), wcss, marker='o')\n",
        "plt.title('The Elbow Method')\n",
        "plt.xlabel('Number of clusters')\n",
        "plt.ylabel('WCSS')\n",
        "plt.show()"
      ],
      "metadata": {
        "colab": {
          "base_uri": "https://localhost:8080/",
          "height": 472
        },
        "id": "ZnoKnjUwx-eo",
        "outputId": "ae5407ca-f2d2-44ec-eabb-fc095c2c142a"
      },
      "execution_count": 47,
      "outputs": [
        {
          "output_type": "display_data",
          "data": {
            "text/plain": [
              "<Figure size 640x480 with 1 Axes>"
            ],
            "image/png": "[encoded data removed]"
          },
          "metadata": {}
        }
      ]
    },
    {
      "cell_type": "code",
      "source": [
        "#Split into Training and Testing\n",
        "X_train, X_test, y_train, y_test = train_test_split(X_mnist, y_mnist, test_size=0.2, random_state=42)\n",
        "\n",
        "#Apply StandardScaler\n",
        "scaler= StandardScaler()\n",
        "X_train = scaler.fit_transform(X_train)\n",
        "X_test = scaler.transform(X_test)\n"
      ],
      "metadata": {
        "id": "Eoe_5eH12hgH"
      },
      "execution_count": 48,
      "outputs": []
    },
    {
      "cell_type": "code",
      "source": [
        "#Apply PCA\n",
        "pca = PCA(0.95)\n",
        "X_train_pca = pca.fit_transform(X_train)\n",
        "X_test_pca = pca.transform(X_test)\n",
        "\n",
        "start = time.time()\n",
        "logistic_pca = LogisticRegression(solver='lbfgs', max_iter=1000)\n",
        "logistic_pca.fit(X_train_pca, y_train)\n",
        "y_pred_pca = logistic_pca.predict(X_test_pca)\n",
        "end = time.time()\n",
        "time_pca = end - start\n",
        "\n",
        "acc_pca = accuracy_score(y_test, y_pred_pca)\n",
        "print(\"Accuracy with PCA:\", acc_pca)\n",
        "print(\"Time taken with PCA:\", time_pca)\n",
        "\n",
        "#USE Logistic regression without PCA and take time\n",
        "start = time.time()\n",
        "logistic = LogisticRegression(solver='lbfgs', max_iter=1000)\n",
        "logistic.fit(X_train, y_train)\n",
        "y_pred_no_pca = logistic.predict(X_test)\n",
        "end = time.time()\n",
        "time_no_pca = end - start\n",
        "\n",
        "acc_no_pca = accuracy_score(y_test, y_pred_no_pca)\n",
        "print(\"Accuracy without PCA:\", acc_no_pca)\n",
        "print(\"Time taken without PCA:\", time_no_pca)"
      ],
      "metadata": {
        "colab": {
          "base_uri": "https://localhost:8080/"
        },
        "id": "1FLJAj283LDe",
        "outputId": "7829e0a6-1b64-4156-b49f-c64d89f2cfdf"
      },
      "execution_count": 44,
      "outputs": [
        {
          "output_type": "stream",
          "name": "stdout",
          "text": [
            "Accuracy with PCA: 0.922\n",
            "Time taken with PCA: 54.69614887237549\n",
            "Accuracy without PCA: 0.9153571428571429\n",
            "Time taken without PCA: 64.31387853622437\n"
          ]
        }
      ]
    },
    {
      "cell_type": "code",
      "source": [
        "#Compare Final Information\n",
        "print(\"-------------FINAL COMPARISONS-------------\")\n",
        "print(\"Accuracy with PCA:\", acc_pca)\n",
        "print(\"Accuracy without PCA:\", acc_no_pca)\n",
        "print(\"Time with PCA:\", time_pca)\n",
        "print(\"Time without PCA:\", time_no_pca)\n",
        "print(f\"Time saved with PCA: {time_no_pca - time_pca:.2f} seconds\")"
      ],
      "metadata": {
        "colab": {
          "base_uri": "https://localhost:8080/"
        },
        "id": "mq1UBezZ_7Lp",
        "outputId": "0d6c2ffe-0206-4ce3-afdf-27b1a6544af2"
      },
      "execution_count": 45,
      "outputs": [
        {
          "output_type": "stream",
          "name": "stdout",
          "text": [
            "-------------FINAL COMPARISONS-------------\n",
            "Accuracy with PCA: 0.922\n",
            "Accuracy without PCA: 0.9153571428571429\n",
            "Time with PCA: 54.69614887237549\n",
            "Time without PCA: 64.31387853622437\n",
            "Time saved with PCA: 9.62 seconds\n"
          ]
        }
      ]
    }
  ]
}